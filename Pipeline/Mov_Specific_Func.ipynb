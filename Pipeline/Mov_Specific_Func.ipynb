{
 "cells": [
  {
   "cell_type": "markdown",
   "id": "b63072a9",
   "metadata": {},
   "source": [
    "## Hand OC with Euc distance"
   ]
  },
  {
   "cell_type": "code",
   "execution_count": null,
   "id": "f61cab17",
   "metadata": {},
   "outputs": [],
   "source": [
    "def hand_OC_mov(df, t):\n",
    "    '''Reports the peaks and troughs from the Euclidean distance'''\n",
    "\n",
    "    start = t[0]\n",
    "    stop = t[-1]\n",
    "\n",
    "    fTip1y = df['fTip1.1']\n",
    "    fTip2y = df['fTip2.1']\n",
    "\n",
    "    # Element-wise subtraction: col1 - col2\n",
    "    euc_dis_y = np.abs(fTip1y - fTip2y)\n",
    "\n",
    "    start_idx = int(t[0])\n",
    "    end_idx = int(t[-1]) + 1\n",
    "\n",
    "    ed_y = euc_dis_y[start_idx:end_idx]\n",
    "    t_np = np.arange(start_idx, end_idx)\n",
    "\n",
    "    peaks, _ = find_peaks(ed_y, height=30, threshold=None, distance=50, prominence=None, width=3, wlen=None, rel_height=0.5, plateau_size=None)\n",
    "    troughs, _ = find_peaks(-ed_y, height=None, threshold=None, distance=50, prominence=None, width=None, wlen=None, rel_height=0.5, plateau_size=None)\n",
    "\n",
    "    # Filter out indices that are out of bounds\n",
    "    peaks = peaks[peaks < len(t_np)]\n",
    "    troughs = troughs[troughs < len(t_np)]\n",
    "\n",
    "    t_peak = t_np[peaks]\n",
    "    t_trough = t_np[troughs]\n",
    "\n",
    "    return t_peak, t_trough, ed_y"
   ]
  }
 ],
 "metadata": {
  "language_info": {
   "name": "python"
  }
 },
 "nbformat": 4,
 "nbformat_minor": 5
}
